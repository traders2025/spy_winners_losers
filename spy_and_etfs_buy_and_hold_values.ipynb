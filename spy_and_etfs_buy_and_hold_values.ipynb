{
 "cells": [
  {
   "cell_type": "code",
   "execution_count": 3,
   "id": "baba38d5-7399-4c5d-bd32-ceb4a4856d8b",
   "metadata": {},
   "outputs": [
    {
     "name": "stdout",
     "output_type": "stream",
     "text": [
      "End value of spy:626.0869565217392\n",
      "End value of xlb:555.0131926121376\n",
      "End value of xle:606.6572237960339\n",
      "End value of xlf:411.6695059625213\n",
      "End value of xli:698.6214209968182\n",
      "End value of xlk:575.6870512503098\n",
      "End value of xlp:618.976377952756\n",
      "End value of xlu:646.3706233988039\n",
      "End value of xlv:645.8685446009389\n",
      "End value of xly:965.3614457831324\n"
     ]
    }
   ],
   "source": [
    "# spy and etfs buy and hold\n",
    "import pandas as pd\n",
    "import numpy as np\n",
    "from empyrical import max_drawdown\n",
    "import matplotlib.pyplot as plt\n",
    "\n",
    "def yearly_returns(df):\n",
    "    df['Date'] = pd.to_datetime(df['Date'])\n",
    "    df.set_index('Date', inplace=True) \n",
    "    returns = {}\n",
    "    for year in range(1999, 2025): \n",
    "        start_date = f\"{year-1}-12-31\"\n",
    "        end_date = f\"{year}-12-31\"\n",
    "        start_price = df['Adj Close'].loc[:start_date].iloc[-1]\n",
    "        end_price = df['Adj Close'].loc[:end_date].iloc[-1]\n",
    "        yearly_return = (end_price - start_price) / start_price\n",
    "        returns[year] = yearly_return\n",
    "    return pd.Series(returns)\n",
    "etfs=['spy','xlb', 'xle', 'xlf', 'xli', 'xlk', 'xlp', 'xlu', 'xlv', 'xly']\n",
    "for etf in etfs:\n",
    "    data = {\n",
    "        'etf': pd.read_csv(f\"{etf}_weekly_return_detailed.csv\"),\n",
    "    }\n",
    "    \n",
    "    yearly_returns_dict = {key: yearly_returns(df) for key, df in data.items()}\n",
    "    final_df = pd.DataFrame(yearly_returns_dict)\n",
    "    final_df.index.name = 'Date'\n",
    "    \n",
    "    cash_annual_bh = []\n",
    "    cash_bh = 100\n",
    "    for year in range(2000, 2025):\n",
    "        total_returns_bh = cash_bh * (1 + final_df.loc[year]).sum()\n",
    "        cash_bh=total_returns_bh\n",
    "        cash_annual_bh.append((year, total_returns_bh))\n",
    "    \n",
    "    years_w, cash_values_bh = zip(*cash_annual_bh)\n",
    "    print(f\"End value of {etf}:{cash_values_bh[-1]}\")"
   ]
  },
  {
   "cell_type": "code",
   "execution_count": null,
   "id": "2edd5b67-0478-419d-88fd-1f962ac80177",
   "metadata": {},
   "outputs": [],
   "source": []
  }
 ],
 "metadata": {
  "kernelspec": {
   "display_name": "Python 3 (ipykernel)",
   "language": "python",
   "name": "python3"
  },
  "language_info": {
   "codemirror_mode": {
    "name": "ipython",
    "version": 3
   },
   "file_extension": ".py",
   "mimetype": "text/x-python",
   "name": "python",
   "nbconvert_exporter": "python",
   "pygments_lexer": "ipython3",
   "version": "3.11.5"
  }
 },
 "nbformat": 4,
 "nbformat_minor": 5
}
